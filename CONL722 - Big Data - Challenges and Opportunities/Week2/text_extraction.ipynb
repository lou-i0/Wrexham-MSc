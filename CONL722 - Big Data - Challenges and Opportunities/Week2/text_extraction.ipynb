{
 "cells": [
  {
   "cell_type": "code",
   "execution_count": 54,
   "id": "a5a88065",
   "metadata": {},
   "outputs": [],
   "source": [
    "import re\n",
    "import string\n",
    "from tqdm import tqdm"
   ]
  },
  {
   "cell_type": "code",
   "execution_count": 55,
   "id": "30580996",
   "metadata": {},
   "outputs": [],
   "source": [
    "word_list = []\n",
    "word_dict = {}\n",
    "key_list = []\n",
    "count = 0\n",
    "word = \"\""
   ]
  },
  {
   "cell_type": "code",
   "execution_count": 56,
   "id": "9ca0c74f",
   "metadata": {},
   "outputs": [],
   "source": [
    "# text from http://www.dummytextgenerator.com/#jump\n",
    "in_text_string = open('exampletext.txt',\"r\").read().lower()"
   ]
  },
  {
   "cell_type": "code",
   "execution_count": 57,
   "id": "56ed6297",
   "metadata": {},
   "outputs": [],
   "source": [
    "word_list = re.split(r'[^a-zA-z\\_\\-]+',in_text_string)"
   ]
  },
  {
   "cell_type": "code",
   "execution_count": 58,
   "id": "d18bfed0",
   "metadata": {},
   "outputs": [
    {
     "name": "stderr",
     "output_type": "stream",
     "text": [
      "100%|███████████████████████████████████████████████████████████████████████████| 531/531 [00:00<00:00, 1063090.89it/s]\n"
     ]
    }
   ],
   "source": [
    "for word in tqdm(word_list):\n",
    "    count = count +1\n",
    "    if word in word_dict:\n",
    "        word_dict[word] = word_dict[word] + ',' + str(count)\n",
    "    else:\n",
    "        word_dict[word] = str(count)"
   ]
  },
  {
   "cell_type": "code",
   "execution_count": 59,
   "id": "faf5fab5",
   "metadata": {},
   "outputs": [
    {
     "name": "stdout",
     "output_type": "stream",
     "text": [
      "['won', 't', 'kind', 'good', 'our', 'earth', 'that', 'upon', 'divide', 'moved', 'forth', 'image', 'waters', 'fruitful', 'under', 'meat', 'of', 'third', 'life', 'spirit', 'were', 'set', 'midst', 'isn', 'bring', 'dry', 'fourth', 'land', 'greater', 'appear', 'said', 'fish', 'deep', 'one', 'saw', 'i', 'beginning', 'creepeth', 'which', 'creeping', 'called', 'green', 'firmament', 'blessed', 'day', 'stars', 'fifth', 'man', 'yielding', 'unto', 'so', 'to', 'the', 'multiply', 'there', 'saying', 'face', 'signs', 'above', 'darkness', 'his', 'likeness', 'also', 'they', 're', 'divided', 'fowl', 'made', 'he', 'place', 'brought', 'be', 'can', 'doesn', 'very', 'was', 'own', 'bearing', 'hath', 'him', 'a', 'gathering', 'you', 'll', 'air', 'days', 'subdue', 'whose', 'let', 'whales', 'given', 'lesser', 'night', 'god', 'fill', 'every', 'creature', 'have', 'open', 'moveth', 'created', 'evening', 'form', 'without', 'first', 'all', 'fly', 'tree', 'rule', 'void', 'herb', 'cattle', 'for', 'lights', 'morning', 'second', 'after', 'had', 'seas', 'living', 'fruit', 'male', 'from', 'their', 'replenish', 'behold', 'make', 'itself', 'together', 'us', 'abundantly', 'great', 'seed', 'give', 'two', 'wherein', 'grass', 'in', 'it', 'don', 'she', 'd', 'them', 'years', 'is', 'dominion', 'sea', 'moving', 'beast', 'thing', 'sixth', 'heaven', 'shall', 'over', 'may', 'light', 'female', '']\n"
     ]
    }
   ],
   "source": [
    "key_list = list(word_dict)\n",
    "\n",
    "print(key_list)"
   ]
  },
  {
   "cell_type": "code",
   "execution_count": 60,
   "id": "37eaea22",
   "metadata": {},
   "outputs": [
    {
     "name": "stderr",
     "output_type": "stream",
     "text": [
      "100%|█████████████████████████████████████████████████████████████████████████████| 158/158 [00:00<00:00, 45167.67it/s]"
     ]
    },
    {
     "name": "stdout",
     "output_type": "stream",
     "text": [
      "won 1,177,363,414,477\n",
      "t 2,27,36,107,109,178,218,221,311,364,376,404,407,415,478,504\n",
      "kind 3,8,69,146,255,256,420,442\n",
      "good 4,377,423,444\n",
      "our 5,343,409,467\n",
      "earth 6,12,293,373,509\n",
      "that 7,80,418\n",
      "upon 9,63,81,299,335,410\n",
      "divide 10,86,340\n",
      "moved 11,44,144,155,163,243,246\n",
      "forth 13,147,164,186,222,328,430\n",
      "image 14,51,90,498\n",
      "waters 15,74,148\n",
      "fruitful 16,231,232,353,402\n",
      "under 17,139\n",
      "meat 18,360\n",
      "of 19,499\n",
      "third 20,58,142\n",
      "life 21,471\n",
      "spirit 22,71,429,440,527\n",
      "were 23,123,489\n",
      "set 24\n",
      "midst 25,103,365,500\n",
      "isn 26,35\n",
      "bring 28,79,319,350,398\n",
      "dry 29,200\n",
      "fourth 30,49,54\n",
      "land 31\n",
      "greater 32,128,426\n",
      "appear 33,149,355,408\n",
      "said 34,189,190,395,416,488\n",
      "fish 37,277,333\n",
      "deep 38,73,94,175,286,392\n",
      "one 39,458\n",
      "saw 40,208,290,318\n",
      "i 41,53,172,253,337\n",
      "beginning 42,57,457\n",
      "creepeth 43,75,273,344,484\n",
      "which 45,346,352,470\n",
      "creeping 46,184,292,324\n",
      "called 47\n",
      "green 48,87,157\n",
      "firmament 50\n",
      "blessed 52,68,227,384\n",
      "day 55,101,334\n",
      "stars 56,171,517\n",
      "fifth 59,141,302,491,514\n",
      "man 60,118\n",
      "yielding 61,115,156,268,427,528\n",
      "unto 62,78,143,493\n",
      "so 64,180,305,421\n",
      "to 65,96,279,330\n",
      "the 66,204,313,320,347,396,450,459,476\n",
      "multiply 67,210,241,304\n",
      "there 70,82,205\n",
      "saying 72,76,312,327,356,357,359,530\n",
      "face 77,303\n",
      "signs 83,270\n",
      "above 84,166\n",
      "darkness 85,215,380\n",
      "his 88,283,308\n",
      "likeness 89,226,448,473\n",
      "also 91\n",
      "they 92,111,438\n",
      "re 93,112,151,439\n",
      "divided 95,124,160,298,520\n",
      "fowl 97,235\n",
      "made 98,203,240,309,339,389,487\n",
      "he 99,102,131,183,412\n",
      "place 100,167,198,501\n",
      "brought 104,119,331,490\n",
      "be 105,264,431\n",
      "can 106,220,375,406,503\n",
      "doesn 108,217,403\n",
      "very 110,181,265\n",
      "was 113,441\n",
      "own 114,388,480\n",
      "bearing 116,229\n",
      "hath 117,179,289,291,374,422,462\n",
      "him 120,206,295\n",
      "a 121,378,382\n",
      "gathering 122,239,258\n",
      "you 125,150,192,247,386,401,424,435,472\n",
      "ll 126,193,248,387,425,436\n",
      "air 127,211,447,508,518\n",
      "days 129,282,288,475,505\n",
      "subdue 130,244\n",
      "whose 132,250,257,338,495,519\n",
      "let 133,237\n",
      "whales 134,358,445\n",
      "given 135,300,411\n",
      "lesser 136,236\n",
      "night 137,417\n",
      "god 138,162,209,321,351,379,390,433\n",
      "fill 140,332,366\n",
      "every 145\n",
      "creature 152,194,242,254\n",
      "have 153,345,513\n",
      "open 154\n",
      "moveth 158,197,223,394,526\n",
      "created 159,262,272,455,496\n",
      "evening 161,201,468\n",
      "form 165,271,525\n",
      "without 168\n",
      "first 169,497\n",
      "all 170,502,510,523\n",
      "fly 173,474\n",
      "tree 174,281,434\n",
      "rule 176,278\n",
      "void 182\n",
      "herb 185,195,449,483\n",
      "cattle 187,214,230,391\n",
      "for 188,367,405,516,521\n",
      "lights 191,325,506\n",
      "morning 196,492\n",
      "second 199,329,368,452,464\n",
      "after 202,361,461\n",
      "had 207,285,385\n",
      "seas 212,252,336,432\n",
      "living 213,238,294,529\n",
      "fruit 216,316\n",
      "male 219,276,348,469\n",
      "from 224,269,419,454,456\n",
      "their 225,369,522\n",
      "replenish 228,263,275,443\n",
      "behold 233,372,400\n",
      "make 234,494,507\n",
      "itself 245,301\n",
      "together 249,266,287\n",
      "us 251\n",
      "abundantly 259,413\n",
      "great 260,296,317\n",
      "seed 261,284\n",
      "give 267\n",
      "two 274,451,466\n",
      "wherein 280,354\n",
      "grass 297,465\n",
      "in 306,362\n",
      "it 307\n",
      "don 310\n",
      "she 314,341,485,511\n",
      "d 315,342,486,512\n",
      "them 322\n",
      "years 323\n",
      "is 326,446,460\n",
      "dominion 349,393\n",
      "sea 370\n",
      "moving 371,453\n",
      "beast 381,481\n",
      "thing 383\n",
      "sixth 397\n",
      "heaven 399\n",
      "shall 428\n",
      "over 437\n",
      "may 463,515,524\n",
      "light 479\n",
      "female 482\n",
      " 531\n"
     ]
    },
    {
     "name": "stderr",
     "output_type": "stream",
     "text": [
      "\n"
     ]
    }
   ],
   "source": [
    "for key in tqdm(key_list):\n",
    "    print(key + \" \" + word_dict[key])"
   ]
  },
  {
   "cell_type": "code",
   "execution_count": 61,
   "id": "6de44550",
   "metadata": {},
   "outputs": [
    {
     "name": "stdout",
     "output_type": "stream",
     "text": [
      "['won', 't', 'kind', 'good', 'our', 'earth', 'that', 'upon', 'divide', 'moved', 'forth', 'image', 'waters', 'fruitful', 'under', 'meat', 'of', 'third', 'life', 'spirit', 'were', 'set', 'midst', 'isn', 'bring', 'dry', 'fourth', 'land', 'greater', 'appear', 'said', 'fish', 'deep', 'one', 'saw', 'i', 'beginning', 'creepeth', 'which', 'creeping', 'called', 'green', 'firmament', 'blessed', 'day', 'stars', 'fifth', 'man', 'yielding', 'unto', 'so', 'to', 'the', 'multiply', 'there', 'saying', 'face', 'signs', 'above', 'darkness', 'his', 'likeness', 'also', 'they', 're', 'divided', 'fowl', 'made', 'he', 'place', 'brought', 'be', 'can', 'doesn', 'very', 'was', 'own', 'bearing', 'hath', 'him', 'a', 'gathering', 'you', 'll', 'air', 'days', 'subdue', 'whose', 'let', 'whales', 'given', 'lesser', 'night', 'god', 'fill', 'every', 'creature', 'have', 'open', 'moveth', 'created', 'evening', 'form', 'without', 'first', 'all', 'fly', 'tree', 'rule', 'void', 'herb', 'cattle', 'for', 'lights', 'morning', 'second', 'after', 'had', 'seas', 'living', 'fruit', 'male', 'from', 'their', 'replenish', 'behold', 'make', 'itself', 'together', 'us', 'abundantly', 'great', 'seed', 'give', 'two', 'wherein', 'grass', 'in', 'it', 'don', 'she', 'd', 'them', 'years', 'is', 'dominion', 'sea', 'moving', 'beast', 'thing', 'sixth', 'heaven', 'shall', 'over', 'may', 'light', 'female', '']\n"
     ]
    }
   ],
   "source": [
    "print(key_list)"
   ]
  },
  {
   "cell_type": "code",
   "execution_count": 72,
   "id": "59c36b4a",
   "metadata": {},
   "outputs": [],
   "source": [
    "with open('concordance.txt', \"w\") as f:\n",
    "    for key in key_list:\n",
    "        f.write('\\n%s' % key + \" \" + word_dict[key])"
   ]
  },
  {
   "cell_type": "code",
   "execution_count": 77,
   "id": "9a4c4fc6",
   "metadata": {},
   "outputs": [],
   "source": [
    "concordance_hash = {}\n",
    "location_Array = []\n",
    "in_text = open('concordance.txt',\"r\")"
   ]
  },
  {
   "cell_type": "code",
   "execution_count": 90,
   "id": "3e56a440",
   "metadata": {},
   "outputs": [],
   "source": [
    "for line in in_text:\n",
    "    location_word, separator, location_positions = line.partition(\" \")\n",
    "    location_array = location_positions.split(\",\")\n",
    "    location_array = [int(x) for x in location_array]\n",
    "    for location in location_array:\n",
    "        concordance_hash[location] = location_word\n",
    "for n in range(300):\n",
    "    if n in concordance_hash:\n",
    "        print((concordance_hash[n]), end = \" \")"
   ]
  },
  {
   "cell_type": "code",
   "execution_count": 91,
   "id": "84b7ff88",
   "metadata": {},
   "outputs": [
    {
     "name": "stdout",
     "output_type": "stream",
     "text": [
      "{'': '\\n', '1': 'won', '177': 'won', '363': 'won', '414': 'won', '477\\n': 'won', '2': 't', '27': 't', '36': 't', '107': 't', '109': 't', '178': 't', '218': 't', '221': 't', '311': 't', '364': 't', '376': 't', '404': 't', '407': 't', '415': 't', '478': 't', '504\\n': 't', '3': 'kind', '8': 'kind', '69': 'kind', '146': 'kind', '255': 'kind', '256': 'kind', '420': 'kind', '442\\n': 'kind', '4': 'good', '377': 'good', '423': 'good', '444\\n': 'good', '5': 'our', '343': 'our', '409': 'our', '467\\n': 'our', '6': 'earth', '12': 'earth', '293': 'earth', '373': 'earth', '509\\n': 'earth', '7': 'that', '80': 'that', '418\\n': 'that', '9': 'upon', '63': 'upon', '81': 'upon', '299': 'upon', '335': 'upon', '410\\n': 'upon', '10': 'divide', '86': 'divide', '340\\n': 'divide', '11': 'moved', '44': 'moved', '144': 'moved', '155': 'moved', '163': 'moved', '243': 'moved', '246\\n': 'moved', '13': 'forth', '147': 'forth', '164': 'forth', '186': 'forth', '222': 'forth', '328': 'forth', '430\\n': 'forth', '14': 'image', '51': 'image', '90': 'image', '498\\n': 'image', '15': 'waters', '74': 'waters', '148\\n': 'waters', '16': 'fruitful', '231': 'fruitful', '232': 'fruitful', '353': 'fruitful', '402\\n': 'fruitful', '17': 'under', '139\\n': 'under', '18': 'meat', '360\\n': 'meat', '19': 'of', '499\\n': 'of', '20': 'third', '58': 'third', '142\\n': 'third', '21': 'life', '471\\n': 'life', '22': 'spirit', '71': 'spirit', '429': 'spirit', '440': 'spirit', '527\\n': 'spirit', '23': 'were', '123': 'were', '489\\n': 'were', '24\\n': 'set', '25': 'midst', '103': 'midst', '365': 'midst', '500\\n': 'midst', '26': 'isn', '35\\n': 'isn', '28': 'bring', '79': 'bring', '319': 'bring', '350': 'bring', '398\\n': 'bring', '29': 'dry', '200\\n': 'dry', '30': 'fourth', '49': 'fourth', '54\\n': 'fourth', '31\\n': 'land', '32': 'greater', '128': 'greater', '426\\n': 'greater', '33': 'appear', '149': 'appear', '355': 'appear', '408\\n': 'appear', '34': 'said', '189': 'said', '190': 'said', '395': 'said', '416': 'said', '488\\n': 'said', '37': 'fish', '277': 'fish', '333\\n': 'fish', '38': 'deep', '73': 'deep', '94': 'deep', '175': 'deep', '286': 'deep', '392\\n': 'deep', '39': 'one', '458\\n': 'one', '40': 'saw', '208': 'saw', '290': 'saw', '318\\n': 'saw', '41': 'i', '53': 'i', '172': 'i', '253': 'i', '337\\n': 'i', '42': 'beginning', '57': 'beginning', '457\\n': 'beginning', '43': 'creepeth', '75': 'creepeth', '273': 'creepeth', '344': 'creepeth', '484\\n': 'creepeth', '45': 'which', '346': 'which', '352': 'which', '470\\n': 'which', '46': 'creeping', '184': 'creeping', '292': 'creeping', '324\\n': 'creeping', '47\\n': 'called', '48': 'green', '87': 'green', '157\\n': 'green', '50\\n': 'firmament', '52': 'blessed', '68': 'blessed', '227': 'blessed', '384\\n': 'blessed', '55': 'day', '101': 'day', '334\\n': 'day', '56': 'stars', '171': 'stars', '517\\n': 'stars', '59': 'fifth', '141': 'fifth', '302': 'fifth', '491': 'fifth', '514\\n': 'fifth', '60': 'man', '118\\n': 'man', '61': 'yielding', '115': 'yielding', '156': 'yielding', '268': 'yielding', '427': 'yielding', '528\\n': 'yielding', '62': 'unto', '78': 'unto', '143': 'unto', '493\\n': 'unto', '64': 'so', '180': 'so', '305': 'so', '421\\n': 'so', '65': 'to', '96': 'to', '279': 'to', '330\\n': 'to', '66': 'the', '204': 'the', '313': 'the', '320': 'the', '347': 'the', '396': 'the', '450': 'the', '459': 'the', '476\\n': 'the', '67': 'multiply', '210': 'multiply', '241': 'multiply', '304\\n': 'multiply', '70': 'there', '82': 'there', '205\\n': 'there', '72': 'saying', '76': 'saying', '312': 'saying', '327': 'saying', '356': 'saying', '357': 'saying', '359': 'saying', '530\\n': 'saying', '77': 'face', '303\\n': 'face', '83': 'signs', '270\\n': 'signs', '84': 'above', '166\\n': 'above', '85': 'darkness', '215': 'darkness', '380\\n': 'darkness', '88': 'his', '283': 'his', '308\\n': 'his', '89': 'likeness', '226': 'likeness', '448': 'likeness', '473\\n': 'likeness', '91\\n': 'also', '92': 'they', '111': 'they', '438\\n': 'they', '93': 're', '112': 're', '151': 're', '439\\n': 're', '95': 'divided', '124': 'divided', '160': 'divided', '298': 'divided', '520\\n': 'divided', '97': 'fowl', '235\\n': 'fowl', '98': 'made', '203': 'made', '240': 'made', '309': 'made', '339': 'made', '389': 'made', '487\\n': 'made', '99': 'he', '102': 'he', '131': 'he', '183': 'he', '412\\n': 'he', '100': 'place', '167': 'place', '198': 'place', '501\\n': 'place', '104': 'brought', '119': 'brought', '331': 'brought', '490\\n': 'brought', '105': 'be', '264': 'be', '431\\n': 'be', '106': 'can', '220': 'can', '375': 'can', '406': 'can', '503\\n': 'can', '108': 'doesn', '217': 'doesn', '403\\n': 'doesn', '110': 'very', '181': 'very', '265\\n': 'very', '113': 'was', '441\\n': 'was', '114': 'own', '388': 'own', '480\\n': 'own', '116': 'bearing', '229\\n': 'bearing', '117': 'hath', '179': 'hath', '289': 'hath', '291': 'hath', '374': 'hath', '422': 'hath', '462\\n': 'hath', '120': 'him', '206': 'him', '295\\n': 'him', '121': 'a', '378': 'a', '382\\n': 'a', '122': 'gathering', '239': 'gathering', '258\\n': 'gathering', '125': 'you', '150': 'you', '192': 'you', '247': 'you', '386': 'you', '401': 'you', '424': 'you', '435': 'you', '472\\n': 'you', '126': 'll', '193': 'll', '248': 'll', '387': 'll', '425': 'll', '436\\n': 'll', '127': 'air', '211': 'air', '447': 'air', '508': 'air', '518\\n': 'air', '129': 'days', '282': 'days', '288': 'days', '475': 'days', '505\\n': 'days', '130': 'subdue', '244\\n': 'subdue', '132': 'whose', '250': 'whose', '257': 'whose', '338': 'whose', '495': 'whose', '519\\n': 'whose', '133': 'let', '237\\n': 'let', '134': 'whales', '358': 'whales', '445\\n': 'whales', '135': 'given', '300': 'given', '411\\n': 'given', '136': 'lesser', '236\\n': 'lesser', '137': 'night', '417\\n': 'night', '138': 'god', '162': 'god', '209': 'god', '321': 'god', '351': 'god', '379': 'god', '390': 'god', '433\\n': 'god', '140': 'fill', '332': 'fill', '366\\n': 'fill', '145\\n': 'every', '152': 'creature', '194': 'creature', '242': 'creature', '254\\n': 'creature', '153': 'have', '345': 'have', '513\\n': 'have', '154\\n': 'open', '158': 'moveth', '197': 'moveth', '223': 'moveth', '394': 'moveth', '526\\n': 'moveth', '159': 'created', '262': 'created', '272': 'created', '455': 'created', '496\\n': 'created', '161': 'evening', '201': 'evening', '468\\n': 'evening', '165': 'form', '271': 'form', '525\\n': 'form', '168\\n': 'without', '169': 'first', '497\\n': 'first', '170': 'all', '502': 'all', '510': 'all', '523\\n': 'all', '173': 'fly', '474\\n': 'fly', '174': 'tree', '281': 'tree', '434\\n': 'tree', '176': 'rule', '278\\n': 'rule', '182\\n': 'void', '185': 'herb', '195': 'herb', '449': 'herb', '483\\n': 'herb', '187': 'cattle', '214': 'cattle', '230': 'cattle', '391\\n': 'cattle', '188': 'for', '367': 'for', '405': 'for', '516': 'for', '521\\n': 'for', '191': 'lights', '325': 'lights', '506\\n': 'lights', '196': 'morning', '492\\n': 'morning', '199': 'second', '329': 'second', '368': 'second', '452': 'second', '464\\n': 'second', '202': 'after', '361': 'after', '461\\n': 'after', '207': 'had', '285': 'had', '385\\n': 'had', '212': 'seas', '252': 'seas', '336': 'seas', '432\\n': 'seas', '213': 'living', '238': 'living', '294': 'living', '529\\n': 'living', '216': 'fruit', '316\\n': 'fruit', '219': 'male', '276': 'male', '348': 'male', '469\\n': 'male', '224': 'from', '269': 'from', '419': 'from', '454': 'from', '456\\n': 'from', '225': 'their', '369': 'their', '522\\n': 'their', '228': 'replenish', '263': 'replenish', '275': 'replenish', '443\\n': 'replenish', '233': 'behold', '372': 'behold', '400\\n': 'behold', '234': 'make', '494': 'make', '507\\n': 'make', '245': 'itself', '301\\n': 'itself', '249': 'together', '266': 'together', '287\\n': 'together', '251\\n': 'us', '259': 'abundantly', '413\\n': 'abundantly', '260': 'great', '296': 'great', '317\\n': 'great', '261': 'seed', '284\\n': 'seed', '267\\n': 'give', '274': 'two', '451': 'two', '466\\n': 'two', '280': 'wherein', '354\\n': 'wherein', '297': 'grass', '465\\n': 'grass', '306': 'in', '362\\n': 'in', '307\\n': 'it', '310\\n': 'don', '314': 'she', '341': 'she', '485': 'she', '511\\n': 'she', '315': 'd', '342': 'd', '486': 'd', '512\\n': 'd', '322\\n': 'them', '323\\n': 'years', '326': 'is', '446': 'is', '460\\n': 'is', '349': 'dominion', '393\\n': 'dominion', '370\\n': 'sea', '371': 'moving', '453\\n': 'moving', '381': 'beast', '481\\n': 'beast', '383\\n': 'thing', '397\\n': 'sixth', '399\\n': 'heaven', '428\\n': 'shall', '437\\n': 'over', '463': 'may', '515': 'may', '524\\n': 'may', '479\\n': 'light', '482\\n': 'female', '531': ''}\n"
     ]
    }
   ],
   "source": [
    "print(concordance_hash)"
   ]
  }
 ],
 "metadata": {
  "kernelspec": {
   "display_name": "Python 3 (ipykernel)",
   "language": "python",
   "name": "python3"
  },
  "language_info": {
   "codemirror_mode": {
    "name": "ipython",
    "version": 3
   },
   "file_extension": ".py",
   "mimetype": "text/x-python",
   "name": "python",
   "nbconvert_exporter": "python",
   "pygments_lexer": "ipython3",
   "version": "3.10.1"
  }
 },
 "nbformat": 4,
 "nbformat_minor": 5
}
