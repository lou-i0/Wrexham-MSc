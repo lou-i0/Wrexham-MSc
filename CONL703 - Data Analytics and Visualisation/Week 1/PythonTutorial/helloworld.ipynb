{
 "cells": [
  {
   "cell_type": "code",
   "execution_count": 1,
   "id": "b540cfbc",
   "metadata": {},
   "outputs": [
    {
     "name": "stdout",
     "output_type": "stream",
     "text": [
      "Hello World!\n"
     ]
    }
   ],
   "source": [
    "print (\"Hello World!\")"
   ]
  },
  {
   "cell_type": "code",
   "execution_count": 2,
   "id": "9b7b8f88",
   "metadata": {},
   "outputs": [
    {
     "name": "stdout",
     "output_type": "stream",
     "text": [
      "i know this already :()\n"
     ]
    }
   ],
   "source": [
    "print(\"i know this already :()\")"
   ]
  },
  {
   "cell_type": "code",
   "execution_count": 3,
   "id": "6bbf3744",
   "metadata": {},
   "outputs": [
    {
     "name": "stdout",
     "output_type": "stream",
     "text": [
      "2073600\n"
     ]
    }
   ],
   "source": [
    "print(1920*1080)"
   ]
  },
  {
   "cell_type": "code",
   "execution_count": 4,
   "id": "fb9d6116",
   "metadata": {},
   "outputs": [
    {
     "data": {
      "text/plain": [
       "2073600"
      ]
     },
     "execution_count": 4,
     "metadata": {},
     "output_type": "execute_result"
    }
   ],
   "source": [
    "1920*1080\n"
   ]
  },
  {
   "cell_type": "code",
   "execution_count": null,
   "id": "b55669ba",
   "metadata": {},
   "outputs": [],
   "source": []
  }
 ],
 "metadata": {
  "kernelspec": {
   "display_name": "Python 3 (ipykernel)",
   "language": "python",
   "name": "python3"
  },
  "language_info": {
   "codemirror_mode": {
    "name": "ipython",
    "version": 3
   },
   "file_extension": ".py",
   "mimetype": "text/x-python",
   "name": "python",
   "nbconvert_exporter": "python",
   "pygments_lexer": "ipython3",
   "version": "3.9.12"
  }
 },
 "nbformat": 4,
 "nbformat_minor": 5
}
