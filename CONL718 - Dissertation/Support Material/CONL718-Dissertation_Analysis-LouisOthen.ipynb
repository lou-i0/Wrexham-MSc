{
 "cells": [
  {
   "cell_type": "markdown",
   "metadata": {},
   "source": [
    "ChatGPT: The advancement of knowledge and incorporation for its users - Appendix B: Python code for data analysis\n"
   ]
  },
  {
   "cell_type": "markdown",
   "metadata": {},
   "source": [
    "# Introduction \n",
    "This jupyter python notebook is used to perform the required data analysis needed as outlined in the research proposal generated in CONL717 - Applied Research Methods; to be applied to the data collection obtained as part of research in module CONL718 - Dissertation.\n",
    "\n",
    "The code presented here shall be broken down into the following steps:\n",
    "\n",
    "1. Introduction\n",
    "2. Import of Initial Libraries and Configuration \n",
    "3. Ingestion of data collected from survey responses\n",
    "4. Data Pre-processing\n",
    "5. Summary Statistics, Descriptive Analysis of Research questions\n",
    "6. Pearson's Correlation Coefficient and Hypothesis Testing \n",
    "7. Download output of formatted data and analysis (where applicable)\n",
    "8. Additional insights where needed and uncovered from ydata-profiling report (Appendix C)"
   ]
  },
  {
   "cell_type": "markdown",
   "metadata": {},
   "source": [
    "\\pagebreak"
   ]
  },
  {
   "cell_type": "markdown",
   "metadata": {},
   "source": [
    "# Import of Initial Libraries and Configuration"
   ]
  },
  {
   "cell_type": "code",
   "execution_count": 1,
   "metadata": {},
   "outputs": [],
   "source": [
    "#=====================================\n",
    "# Import of relevant libraries needed\n",
    "#-------------------------------------\n",
    "import os             as os                # System related activities.\n",
    "import pandas         as pd                # Data analysis and manipulation. \n",
    "import numpy          as np                # Operations on arrays. \n",
    "import plotly.express as px                # Interactive data visualisations.\n",
    "import plotly.io      as pio               # Render plotly charts in VScode.\n",
    "import nltk           as nltk              # Natural language toolkit.\n",
    "import warnings                            # Suppress warnings of deprecation.\n",
    "\n",
    "from ydata_profiling  import ProfileReport # Generate ydata-profiler report.\n",
    "from nltk.corpus      import stopwords     # Remove stopwords.\n",
    "from scipy.stats      import binom_test    # Create binomial test\n",
    "from scipy.stats      import pearsonr      # Pearson's Correlation Coefficient.\n",
    "from IPython.display  import Image         # Bring saved images into notebook.\n",
    "from tabulate         import tabulate      # Data presentation in pdf output."
   ]
  },
  {
   "cell_type": "code",
   "execution_count": 3,
   "metadata": {},
   "outputs": [],
   "source": [
    "#=====================================\n",
    "# Suppress deprecated warnings of functions used.\n",
    "#-------------------------------------\n",
    "warnings.filterwarnings(\"ignore\") "
   ]
  },
  {
   "cell_type": "code",
   "execution_count": 4,
   "metadata": {},
   "outputs": [],
   "source": [
    "#=====================================\n",
    "# Allow plotly  to render in VSCode.\n",
    "#-------------------------------------\n",
    "pio.renderers.default = 'notebook'"
   ]
  },
  {
   "cell_type": "code",
   "execution_count": 5,
   "metadata": {},
   "outputs": [
    {
     "name": "stderr",
     "output_type": "stream",
     "text": [
      "[nltk_data] Downloading package stopwords to\n",
      "[nltk_data]     C:\\Users\\lothe\\AppData\\Roaming\\nltk_data...\n",
      "[nltk_data]   Package stopwords is already up-to-date!\n"
     ]
    }
   ],
   "source": [
    "#=====================================\n",
    "# Configure stopwords to use.\n",
    "#-------------------------------------\n",
    "nltk.download('stopwords')                    \n",
    "stop_words = stopwords.words('english')\n",
    "\n",
    "# Extend stopword library with words based on this study.\n",
    "#-------------------------------------\n",
    "stop_words.extend(['im','chatgpt'])        "
   ]
  },
  {
   "cell_type": "code",
   "execution_count": 6,
   "metadata": {},
   "outputs": [
    {
     "name": "stdout",
     "output_type": "stream",
     "text": [
      "C:\\Users\\lothe\\OneDrive\\Wrexham Uni (Masters)\\CONL718 - Dissertation\\Data\n"
     ]
    }
   ],
   "source": [
    "#=====================================\n",
    "# Set where to locate csv file of collected responses.\n",
    "#-------------------------------------\n",
    "folderPath = \"C:/Users/lothe/OneDrive/Wrexham Uni (Masters)/CONL718 - Dissertation/Data/\"\n",
    "filepath   = \"C:/Users/lothe/OneDrive/Wrexham Uni (Masters)/CONL718 - Dissertation/Data/Dissertation Survey - Louis Othen.csv\"\n",
    "\n",
    "# Condition changing current working directory if not to specified folder path.\n",
    "#-------------------------------------\n",
    "if os.getcwd() != folderPath:\n",
    "    os.chdir(folderPath)\n",
    "\n",
    "# Confirm where folder path currently points.\n",
    "#-------------------------------------\n",
    "print(os.getcwd())"
   ]
  },
  {
   "cell_type": "markdown",
   "metadata": {},
   "source": [
    "Now the libraries are applied to this script, the data collected from the survey, can now be uploaded."
   ]
  },
  {
   "cell_type": "markdown",
   "metadata": {},
   "source": [
    "\\pagebreak"
   ]
  },
  {
   "cell_type": "markdown",
   "metadata": {},
   "source": [
    "# Ingestion of Data Collected from Survey Responses"
   ]
  },
  {
   "cell_type": "code",
   "execution_count": 7,
   "metadata": {},
   "outputs": [],
   "source": [
    "# Ingest csv file of collected responses from survey.\n",
    "#----------------------------------------\n",
    "data = pd.read_csv(filepath)"
   ]
  },
  {
   "cell_type": "markdown",
   "metadata": {},
   "source": [
    "## Preview Dataset in Raw Format"
   ]
  },
  {
   "cell_type": "code",
   "execution_count": 8,
   "metadata": {},
   "outputs": [
    {
     "name": "stdout",
     "output_type": "stream",
     "text": [
      "Timestamp                   Based on the above,        Can you confirm if you\n",
      "                            please confirm that you    have used ChatGPT\n",
      "                            are happy to provide       previously?\n",
      "                            consent and to proceed\n",
      "                            with this survey as a\n",
      "                            participant?\n",
      "--------------------------  -------------------------  ------------------------\n",
      "2023/07/04 4:59:44 pm CET   Yes                        Yes\n",
      "2023/07/04 6:29:44 pm CET   Yes                        Yes\n",
      "2023/07/04 6:37:15 pm CET   Yes                        No\n",
      "2023/07/05 2:26:17 am CET   Yes                        Yes\n",
      "2023/07/05 10:48:04 am CET  Yes                        Yes\n"
     ]
    }
   ],
   "source": [
    "# Preview dataset in raw format.\n",
    "#----------------------------------------\n",
    "col_w_s = 23\n",
    "col_w = [col_w_s,col_w_s,col_w_s,col_w_s]\n",
    "h_fmt = 'keys'\n",
    "t_fmt = 'simple'\n",
    "s_index = False\n",
    "\n",
    "print(tabulate(\n",
    "                data.iloc[:,:3].head()\n",
    "                ,headers = h_fmt\n",
    "                ,tablefmt = t_fmt\n",
    "                ,showindex = s_index\n",
    "                ,maxheadercolwidths = col_w\n",
    "                ,maxcolwidths = [26,col_w_s,col_w_s,col_w_s]\n",
    "                ,\n",
    "              ))"
   ]
  },
  {
   "cell_type": "markdown",
   "metadata": {},
   "source": [
    "\\pagebreak"
   ]
  },
  {
   "cell_type": "code",
   "execution_count": 9,
   "metadata": {},
   "outputs": [
    {
     "name": "stdout",
     "output_type": "stream",
     "text": [
      "When you used ChatGPT -        Based on the response  Can you describe - in a\n",
      "based on the prompt you            you received from  few words - what prompt\n",
      "entered - did the             ChatGPT, how would you  you provided ChatGPT to\n",
      "response help enhance          rate the response you  answer based on above?\n",
      "your knowledge in that       were provided?   From 0\n",
      "area?                          being not useful to 5\n",
      "                                   being exactly the\n",
      "                             information you needed.\n",
      "-------------------------  -------------------------  -------------------------\n",
      "Yes                                                4  I asked to explain a\n",
      "                                                      principal of orbital\n",
      "                                                      mechanics to me in\n",
      "                                                      basic terms\n",
      "Yes                                                4  Various prompts,\n",
      "                                                      generally on\n",
      "                                                      philosophical\n",
      "                                                      concepts/breakdown of\n",
      "                                                      these ideas.\n",
      "No                                                 1  none\n",
      "Yes                                                4  i asked chat gpt to\n",
      "                                                      write me a story,\n",
      "                                                      produce code for Unity\n",
      "                                                      Games Engine in C# etc.\n",
      "Yes                                                2  While the prompts\n",
      "                                                      usually give a decent\n",
      "                                                      indicator of what I\n",
      "                                                      want it is often\n",
      "                                                      riddled with mistakes\n",
      "                                                      and wrong information.\n"
     ]
    }
   ],
   "source": [
    "# Preview dataset in raw format -  part 2.\n",
    "#----------------------------------------\n",
    "print(tabulate(\n",
    "                data.iloc[:,3:6].head()\n",
    "                ,headers = h_fmt\n",
    "                ,tablefmt = t_fmt\n",
    "                ,showindex = s_index\n",
    "                ,maxheadercolwidths= col_w\n",
    "                ,maxcolwidths = col_w\n",
    "              ))"
   ]
  },
  {
   "cell_type": "markdown",
   "metadata": {},
   "source": [
    "\\pagebreak"
   ]
  },
  {
   "cell_type": "code",
   "execution_count": 10,
   "metadata": {},
   "outputs": [
    {
     "name": "stdout",
     "output_type": "stream",
     "text": [
      "With the prompt you        If ChatGPT did enhance     How many times\n",
      "entered, do you believe    your knowledge, have       approximately, have you\n",
      "you could of obtained      you used it more into      used ChatGPT since you\n",
      "the information you        your day-to-day routine    have been aware of it?\n",
      "wanted elsewhere?          since?\n",
      "-------------------------  -------------------------  -------------------------\n",
      "Yes                        Yes                        21 Times or more\n",
      "Yes                        Yes                        21 Times or more\n",
      "Yes                        Not Applicable             0 - 5 Times\n",
      "Yes                        No                         6 - 10 Times\n",
      "Yes                        Yes                        21 Times or more\n"
     ]
    }
   ],
   "source": [
    "# Preview dataset in raw format -  part 3.\n",
    "#----------------------------------------\n",
    "print(tabulate(\n",
    "                data.iloc[:,6:9].head()\n",
    "                ,headers = h_fmt\n",
    "                ,tablefmt = t_fmt\n",
    "                ,showindex = s_index\n",
    "                ,maxheadercolwidths = col_w\n",
    "                ,maxcolwidths = col_w\n",
    "              ))"
   ]
  },
  {
   "cell_type": "markdown",
   "metadata": {},
   "source": [
    "\\pagebreak"
   ]
  },
  {
   "cell_type": "code",
   "execution_count": 11,
   "metadata": {},
   "outputs": [
    {
     "name": "stdout",
     "output_type": "stream",
     "text": [
      "        Based on previous  Please confirm your    Please describe your\n",
      "   ChatGPT use, how would  occupational status    level of education\n",
      "      you compare it with\n",
      "        platforms such as\n",
      "      Google, Youtube, or\n",
      "    other method in terms\n",
      "    of ease for acquiring\n",
      "           knowledge on a\n",
      "  particular topic?  From\n",
      "   0 being harder to gain\n",
      "      this knowledge to 5\n",
      "     being easier to gain\n",
      "          this knowledge.\n",
      "-------------------------  ---------------------  ----------------------\n",
      "                        4  Working Professional   Higher Education\n",
      "                        5  Student                Bachelor's Degree\n",
      "                        0  Student                Bachelor's Degree\n",
      "                        5  Unemployed             Bachelor's Degree\n",
      "                        3  Working Professional   Higher Education\n"
     ]
    }
   ],
   "source": [
    "# Preview dataset in raw format -  part 4.\n",
    "#----------------------------------------\n",
    "print(tabulate(\n",
    "                data.iloc[:,9:12].head()\n",
    "                ,headers = h_fmt\n",
    "                ,tablefmt = t_fmt\n",
    "                ,showindex = s_index\n",
    "                ,maxheadercolwidths= col_w\n",
    "                ,maxcolwidths= col_w\n",
    "              ))"
   ]
  },
  {
   "cell_type": "markdown",
   "metadata": {},
   "source": [
    "\\pagebreak"
   ]
  },
  {
   "cell_type": "code",
   "execution_count": 12,
   "metadata": {},
   "outputs": [
    {
     "name": "stdout",
     "output_type": "stream",
     "text": [
      "In a few words, what       In a few words, please\n",
      "industry sector closely    describe the course you\n",
      "aligns with the sector     are studying?\n",
      "you currently work\n",
      "within?\n",
      "-------------------------  -------------------------\n",
      "Utilities                  nan\n",
      "nan                        Philosophy\n",
      "nan                        I'm a biology teacher.\n",
      "                           I teach highscool kids\n",
      "                           biology.\n",
      "nan                        nan\n",
      "Software Development       nan\n"
     ]
    }
   ],
   "source": [
    "# Preview dataset in raw format -  part 5.\n",
    "#----------------------------------------\n",
    "print(tabulate(\n",
    "                data.iloc[:,12:14].head()\n",
    "                ,headers = h_fmt\n",
    "                ,tablefmt = t_fmt\n",
    "                ,showindex = s_index\n",
    "                ,maxheadercolwidths = col_w\n",
    "                ,maxcolwidths = col_w\n",
    "              ))"
   ]
  },
  {
   "cell_type": "markdown",
   "metadata": {},
   "source": [
    "As the CSV has uploaded successfully and can see what the data looks like in its raw form, the next stage is perform pre-processing, into a version that can be applied as part of analysis in a later stage."
   ]
  },
  {
   "cell_type": "markdown",
   "metadata": {},
   "source": [
    "\\pagebreak"
   ]
  },
  {
   "cell_type": "markdown",
   "metadata": {},
   "source": [
    "# Data Pre-processing"
   ]
  },
  {
   "cell_type": "code",
   "execution_count": 13,
   "metadata": {},
   "outputs": [],
   "source": [
    "# Email addresses were manually removed from CSV file before import.\n",
    "#----------------------------------------\n",
    "# Rename Columns based on the research question it relates to.\n",
    "#----------------------------------------\n",
    "data = data.rename(columns = {'Can you confirm if you have used ChatGPT previously?':'rq1_question'})\n",
    "data = data.rename(columns = {'When you used ChatGPT - based on the prompt you entered - did the response help enhance your knowledge in that area? ': 'rq2_question'})\n",
    "data = data.rename(columns = {'If ChatGPT did enhance your knowledge, have you used it more into your day-to-day routine since?': 'rq3_question'})"
   ]
  },
  {
   "cell_type": "code",
   "execution_count": 14,
   "metadata": {},
   "outputs": [],
   "source": [
    "# Convert all research questions responses ready for analysis:\n",
    "# Yes = 1, No  = 0, for rq3 specifically - Not Applicable = -1.\n",
    "#----------------------------------------\n",
    "data['rq1_question'].replace(['Yes','No'],[1,0], inplace=True)\n",
    "data['rq2_question'].replace(['Yes','No'],[1,0], inplace=True)\n",
    "data['rq3_question'].replace(['Yes','No','Not Applicable'],[1,0,-1], inplace=True)"
   ]
  },
  {
   "cell_type": "code",
   "execution_count": 15,
   "metadata": {},
   "outputs": [],
   "source": [
    "# Rename remaining columns for conciseness - whilst keeping column definitions.\n",
    "#----------------------------------------\n",
    "data = data.rename(columns = {'Based on the above, please confirm that you are happy to provide consent and to proceed with this survey as a participant? ': 'consent_obtained'})\n",
    "data = data.rename(columns = {'Based on the response you received from ChatGPT, how would you rate the response you were provided? \\n\\nFrom 0 being not useful to 5 being exactly the information you needed.': 'rating_response'})\n",
    "data = data.rename(columns = {'Can you describe - in a few words - what prompt you provided ChatGPT to answer based on above?': 'prompt_entered'})\n",
    "data = data.rename(columns = {'How many times approximately, have you used ChatGPT since you have been aware of it? ': 'num_chatgpt_uses'})\n",
    "data = data.rename(columns = {'Based on previous ChatGPT use, how would you compare it with platforms such as Google, Youtube, or other method in terms of ease for acquiring knowledge on a particular topic?\\n\\nFrom 0 being harder to gain this knowledge to 5 being easier to gain this knowledge.': 'rating_comparison_other'})\n",
    "data = data.rename(columns = {'Please confirm your occupational status': 'occupation_status'})\n",
    "data = data.rename(columns = {'Please describe your level of education': 'education_level'})\n",
    "data = data.rename(columns = {'In a few words, please describe the course you are studying?': 'student_course'})\n",
    "data = data.rename(columns = {'In a few words, what industry sector closely aligns with the sector you currently work within?': 'professional_sector'})\n",
    "data = data.rename(columns = {'With the prompt you entered, do you believe you could of obtained the information you wanted elsewhere? ': 'prompt_obtainable_elsewhere'})"
   ]
  },
  {
   "cell_type": "code",
   "execution_count": 16,
   "metadata": {},
   "outputs": [],
   "source": [
    "# Ensure all relevant variables are converted into their expected datatypes\n",
    "#----------------------------------------\n",
    "data['Timestamp']                   = data['Timestamp'].astype('datetime64[ns]')\n",
    "data['consent_obtained']            = data['consent_obtained'].astype('category')\n",
    "data['prompt_entered']              = data['prompt_entered'].astype(str)\n",
    "data['prompt_obtainable_elsewhere'] = data['prompt_obtainable_elsewhere'].astype('category')\n",
    "data['num_chatgpt_uses']            = data['num_chatgpt_uses'].astype('category')  \n",
    "data['occupation_status']           = data['occupation_status'].astype('category')\n",
    "data['education_level']             = data['education_level'].astype('category')\n",
    "data['professional_sector']         = data['professional_sector'].astype(str).str.replace('nan','')\n",
    "data['student_course']              = data['student_course'].astype(str).str.replace('nan','')"
   ]
  },
  {
   "cell_type": "code",
   "execution_count": 17,
   "metadata": {},
   "outputs": [
    {
     "name": "stdout",
     "output_type": "stream",
     "text": [
      "<class 'pandas.core.frame.DataFrame'>\n",
      "RangeIndex: 17 entries, 0 to 16\n",
      "Data columns (total 14 columns):\n",
      " #   Column                       Non-Null Count  Dtype         \n",
      "---  ------                       --------------  -----         \n",
      " 0   Timestamp                    17 non-null     datetime64[ns]\n",
      " 1   consent_obtained             17 non-null     category      \n",
      " 2   rq1_question                 17 non-null     int64         \n",
      " 3   rq2_question                 17 non-null     int64         \n",
      " 4   rating_response              17 non-null     int64         \n",
      " 5   prompt_entered               17 non-null     object        \n",
      " 6   prompt_obtainable_elsewhere  17 non-null     category      \n",
      " 7   rq3_question                 17 non-null     int64         \n",
      " 8   num_chatgpt_uses             17 non-null     category      \n",
      " 9   rating_comparison_other      17 non-null     int64         \n",
      " 10  occupation_status            17 non-null     category      \n",
      " 11  education_level              17 non-null     category      \n",
      " 12  professional_sector          17 non-null     object        \n",
      " 13  student_course               17 non-null     object        \n",
      "dtypes: category(5), datetime64[ns](1), int64(5), object(3)\n",
      "memory usage: 2.1+ KB\n"
     ]
    },
    {
     "data": {
      "text/plain": [
       "None"
      ]
     },
     "metadata": {},
     "output_type": "display_data"
    }
   ],
   "source": [
    "# Convert text in 'prompt_entered', 'professional_sector'\n",
    "# and student_course variables to lowercase and remove punctuation. Additionally, remove stop words.\n",
    "#----------------------------------------\n",
    "data['prompt_entered'] = data['prompt_entered'].str.replace('[^\\w\\s]','', regex = True)\n",
    "data['prompt_entered'] = data['prompt_entered'].str.lower().str.split()\n",
    "data['prompt_entered'] = data['prompt_entered'].apply(lambda x: ' '.join([word for word in x if word not in (stop_words)]))\n",
    "\n",
    "data['professional_sector'] = data['professional_sector'].str.replace('[^\\w\\s]','', regex = True)\n",
    "data['professional_sector'] = data['professional_sector'].str.lower().str.split()\n",
    "data['professional_sector'] = data['professional_sector'].apply(lambda x: ' '.join([word for word in x if word not in (stop_words)]))\n",
    "\n",
    "data['student_course'] = data['student_course'].str.replace('[^\\w\\s]','', regex = True)\n",
    "data['student_course'] = data['student_course'].str.lower().str.split()\n",
    "data['student_course'] = data['student_course'].apply(lambda x: ' '.join([word for word in x if word not in (stop_words)]))\n",
    "\n",
    "display(data.info())"
   ]
  },
  {
   "cell_type": "markdown",
   "metadata": {},
   "source": [
    "\\pagebreak"
   ]
  },
  {
   "cell_type": "markdown",
   "metadata": {},
   "source": [
    "## Preview dataset in pre-processed format"
   ]
  },
  {
   "cell_type": "code",
   "execution_count": 18,
   "metadata": {},
   "outputs": [
    {
     "name": "stdout",
     "output_type": "stream",
     "text": [
      "Timestamp            consent_obtained      rq1_question    rq2_question\n",
      "-------------------  ------------------  --------------  --------------\n",
      "2023-07-04 16:59:44  Yes                              1               1\n",
      "2023-07-04 18:29:44  Yes                              1               1\n",
      "2023-07-04 18:37:15  Yes                              0               0\n",
      "2023-07-05 02:26:17  Yes                              1               1\n",
      "2023-07-05 10:48:04  Yes                              1               1\n"
     ]
    }
   ],
   "source": [
    "# Preview dataset in pre-processed format.\n",
    "#----------------------------------------\n",
    "col_w_s = 23\n",
    "col_w = [col_w_s,col_w_s,col_w_s,col_w_s]\n",
    "h_fmt = 'keys'\n",
    "t_fmt = 'simple'\n",
    "s_index = False\n",
    "\n",
    "\n",
    "print(tabulate(\n",
    "                data.iloc[:,:4].head()\n",
    "                ,headers = h_fmt\n",
    "                ,tablefmt = t_fmt\n",
    "                ,showindex = s_index\n",
    "                ,maxheadercolwidths = col_w\n",
    "                ,maxcolwidths = col_w\n",
    "              ))"
   ]
  },
  {
   "cell_type": "markdown",
   "metadata": {},
   "source": [
    "\\pagebreak"
   ]
  },
  {
   "cell_type": "code",
   "execution_count": 19,
   "metadata": {},
   "outputs": [
    {
     "name": "stdout",
     "output_type": "stream",
     "text": [
      "  rating_response  prompt_entered     prompt_obtainable      rq3_question\n",
      "                                      _elsewhere\n",
      "-----------------  -----------------  -------------------  --------------\n",
      "                4  asked explain      Yes                               1\n",
      "                   principal orbital\n",
      "                   mechanics basic\n",
      "                   terms\n",
      "                4  various prompts    Yes                               1\n",
      "                   generally\n",
      "                   philosophical\n",
      "                   conceptsbreakdown\n",
      "                   ideas\n",
      "                1  none               Yes                              -1\n",
      "                4  asked chat gpt     Yes                               0\n",
      "                   write story\n",
      "                   produce code\n",
      "                   unity games\n",
      "                   engine c etc\n",
      "                2  prompts usually    Yes                               1\n",
      "                   give decent\n",
      "                   indicator want\n",
      "                   often riddled\n",
      "                   mistakes wrong\n",
      "                   information\n"
     ]
    }
   ],
   "source": [
    "# Preview dataset in pre-processed format -  Part 2.\n",
    "#----------------------------------------\n",
    "col_w_s = 17\n",
    "col_w = [col_w_s,col_w_s,col_w_s,col_w_s]\n",
    "h_fmt = 'keys'\n",
    "t_fmt = 'simple'\n",
    "s_index = False\n",
    "\n",
    "\n",
    "print(tabulate(\n",
    "                data.iloc[:,4:8].head()\n",
    "                ,headers = h_fmt\n",
    "                ,tablefmt = t_fmt\n",
    "                ,showindex = s_index\n",
    "                ,maxheadercolwidths = col_w\n",
    "                ,maxcolwidths = col_w\n",
    "              ))"
   ]
  },
  {
   "cell_type": "markdown",
   "metadata": {},
   "source": [
    "\\pagebreak"
   ]
  },
  {
   "cell_type": "code",
   "execution_count": 20,
   "metadata": {},
   "outputs": [
    {
     "name": "stdout",
     "output_type": "stream",
     "text": [
      "num_chatgpt_uses      rating_comparison_other  occupation_status     education_level\n",
      "------------------  -------------------------  --------------------  -----------------\n",
      "21 Times or more                            4  Working Professional  Higher Education\n",
      "21 Times or more                            5  Student               Bachelor's Degree\n",
      "0 - 5 Times                                 0  Student               Bachelor's Degree\n",
      "6 - 10 Times                                5  Unemployed            Bachelor's Degree\n",
      "21 Times or more                            3  Working Professional  Higher Education\n"
     ]
    }
   ],
   "source": [
    "# Preview dataset in pre-processed format -  Part 3.\n",
    "#----------------------------------------\n",
    "col_w_s = 23\n",
    "col_w = [col_w_s,col_w_s,col_w_s,col_w_s]\n",
    "h_fmt = 'keys'\n",
    "t_fmt = 'simple'\n",
    "s_index = False\n",
    "\n",
    "\n",
    "print(tabulate(\n",
    "                data.iloc[:,8:12].head()\n",
    "                ,headers = h_fmt\n",
    "                ,tablefmt = t_fmt\n",
    "                ,showindex = s_index\n",
    "                ,maxheadercolwidths = col_w\n",
    "                ,maxcolwidths = col_w\n",
    "              ))"
   ]
  },
  {
   "cell_type": "markdown",
   "metadata": {},
   "source": [
    "\\pagebreak"
   ]
  },
  {
   "cell_type": "code",
   "execution_count": 21,
   "metadata": {},
   "outputs": [
    {
     "name": "stdout",
     "output_type": "stream",
     "text": [
      "professional_sector    student_course\n",
      "---------------------  ----------------------\n",
      "utilities\n",
      "                       philosophy\n",
      "                       biology teacher teach\n",
      "                       highscool kids biology\n",
      "software development\n"
     ]
    }
   ],
   "source": [
    "# Preview dataset in pre-processed format -  Part 4.\n",
    "#----------------------------------------\n",
    "col_w_s = 23\n",
    "col_w = [col_w_s,col_w_s,col_w_s,col_w_s]\n",
    "h_fmt = 'keys'\n",
    "t_fmt = 'simple'\n",
    "s_index = False\n",
    "\n",
    "\n",
    "print(tabulate(\n",
    "                data.iloc[:,12:14].head()\n",
    "                ,headers = h_fmt\n",
    "                ,tablefmt = t_fmt\n",
    "                ,showindex = s_index\n",
    "                ,maxheadercolwidths = col_w\n",
    "                ,maxcolwidths = col_w\n",
    "             ))"
   ]
  },
  {
   "cell_type": "markdown",
   "metadata": {},
   "source": [
    "Once the pre-processing of data was completed, the next stage was to perform initial descriptive analysis, based on what was set out in the paper:\n",
    "\n",
    "1.\tHow many participants found ChatGPT enhanced their knowledge? What percentage of the population reported knowledge enhancement, and the percentage where it did not.\n",
    "2.\tAmong participants who reported knowledge enhancement, how many now use ChatGPT for knowledge acquisition? "
   ]
  },
  {
   "cell_type": "markdown",
   "metadata": {},
   "source": [
    "\\pagebreak"
   ]
  },
  {
   "cell_type": "markdown",
   "metadata": {},
   "source": [
    "# Initial Summary Statistics and Descriptive Analysis"
   ]
  },
  {
   "cell_type": "markdown",
   "metadata": {},
   "source": [
    "## Intial Summary Statistics"
   ]
  },
  {
   "cell_type": "code",
   "execution_count": 22,
   "metadata": {},
   "outputs": [
    {
     "name": "stdout",
     "output_type": "stream",
     "text": [
      "Number of respondents participated in survey:  17\n",
      "Number of questions used in survey:  13\n"
     ]
    },
    {
     "data": {
      "application/vnd.jupyter.widget-view+json": {
       "model_id": "93a38f7ae1be48b3a7fb06ac10057fff",
       "version_major": 2,
       "version_minor": 0
      },
      "text/plain": [
       "Summarize dataset:   0%|          | 0/5 [00:00<?, ?it/s]"
      ]
     },
     "metadata": {},
     "output_type": "display_data"
    },
    {
     "data": {
      "application/vnd.jupyter.widget-view+json": {
       "model_id": "1fb624ca446b479c8d884734df472d7b",
       "version_major": 2,
       "version_minor": 0
      },
      "text/plain": [
       "Generate report structure:   0%|          | 0/1 [00:00<?, ?it/s]"
      ]
     },
     "metadata": {},
     "output_type": "display_data"
    },
    {
     "data": {
      "application/vnd.jupyter.widget-view+json": {
       "model_id": "4690d320ca2043bb97ee2141f23fa704",
       "version_major": 2,
       "version_minor": 0
      },
      "text/plain": [
       "Render HTML:   0%|          | 0/1 [00:00<?, ?it/s]"
      ]
     },
     "metadata": {},
     "output_type": "display_data"
    },
    {
     "data": {
      "application/vnd.jupyter.widget-view+json": {
       "model_id": "5ab31fdbc3c14c3696f9a6f930d5ed22",
       "version_major": 2,
       "version_minor": 0
      },
      "text/plain": [
       "Export report to file:   0%|          | 0/1 [00:00<?, ?it/s]"
      ]
     },
     "metadata": {},
     "output_type": "display_data"
    }
   ],
   "source": [
    "# Number of respondents who participated in survey.\n",
    "#----------------------------------------\n",
    "total_participants = data.shape[0]       \n",
    "print('Number of respondents participated in survey: ',total_participants)\n",
    "\n",
    "# Number of questions used in survey\n",
    "#----------------------------------------\n",
    "total_questions = data.shape[1] - 1 if 'Timestamp' in data.columns else data.shape[1]\n",
    "print('Number of questions used in survey: ',total_questions)\n",
    "\n",
    "# Produce ydata-profiler report with configuration, to show as appendix\n",
    "#----------------------------------------\n",
    "data_profile = ProfileReport\\\n",
    "    ( \n",
    "        data\n",
    "        # Apply correlations potentially useful to explore\n",
    "        #----------------------------------------\n",
    "        ,correlations = {\n",
    "                            \"pearson\": {\"calculate\": False} \n",
    "                            ,\"phi_k\": {\"calculate\": True}\n",
    "                            ,\"spearman\": {\"calculate\": False}\n",
    "                            ,\"kendall\": {\"calculate\": False}\n",
    "                            ,\"cramers\": {\"calculate\": True}\n",
    "                        }\n",
    "        ,infer_dtypes = True\n",
    "        ,interactions = None\n",
    "        ,missing_diagrams = None\n",
    "        ,title = \"ChatGPT: The advancement of knowledge and incorporation for its users\"\n",
    "        ,dataset =  {\n",
    "                        \"author\" : \"Louis Othen\"\n",
    "                        ,\"description\":\"Data of participant responses downloaded from Google Forms survey tool.\"\n",
    "                    }   \n",
    "        ,dark_mode=True     \n",
    "    )\n",
    "# Update report to include descriptions as to what variables relate to.\n",
    "#----------------------------------------\n",
    "data_profile.config.variables.descriptions = \\\n",
    "{\n",
    "    \"Timestamp\":\"Date and time of participant survey submission\"\n",
    "    ,\"consent_obtained\": \"Related to question: Based on the above, please confirm that you are happy to provide consent and to proceed with this survey as a participant?\"\n",
    "    ,\"rq1_question\": \"RQ1 - Related to question: Can you confirm if you have used ChatGPT previously?\"\n",
    "    ,\"rq2_question\": \"RQ2 - Related to question: When you used ChatGPT - based on the prompt you entered - did the response help enhance your knowledge in that area?\"\n",
    "    ,\"rating_response\":\"Related to question: Based on the response you received from ChatGPT, how would you rate the response you were provided?\"\n",
    "    ,\"prompt_entered\":\"Related to question: Can you describe - in a few words - what prompt you provided ChatGPT to answer based on above?\"\n",
    "    ,\"prompt_obtainable_elsewhere\":\"Related to question: With the prompt you entered, do you believe you could of obtained the information you wanted elsewhere?\"\n",
    "    ,\"rq3_question\":\"RQ3 - Related to question: If ChatGPT did enhance your knowledge, have you used it more into your day-to-day routine since?\"\n",
    "    ,\"num_chatgpt_uses\":\"Related to question: How many times approximately, have you used ChatGPT since you have been aware of it? \"\n",
    "    ,\"rating_comparison_other\":\"Related to question: Based on previous ChatGPT use, how would you compare it with platforms such as Google, Youtube, or other method in terms of ease for acquiring knowledge on a particular topic?\"\n",
    "    ,\"occupation_status\":\"Related to question: Please confirm your occupational status\"\n",
    "    ,\"education_level\":\"Related to question: Please describe your level of education\"\n",
    "    ,\"professional_sector\":\"Related to question: In a few words, what industry sector closely aligns with the sector you currently work within?\"\n",
    "    ,\"student_course\":\"Related to question: In a few words, please describe the course you are studying?\"\n",
    "}\n",
    "# Download copy of report into a HTML file.\n",
    "#----------------------------------------\n",
    "data_profile.to_file('Dissertation EDA - Louis Othen.html')"
   ]
  },
  {
   "cell_type": "markdown",
   "metadata": {},
   "source": [
    "\\pagebreak"
   ]
  },
  {
   "cell_type": "markdown",
   "metadata": {},
   "source": [
    "## Descriptive Analysis"
   ]
  },
  {
   "cell_type": "markdown",
   "metadata": {},
   "source": [
    "This section covers the analysis to answer the research questions raised in this research."
   ]
  },
  {
   "cell_type": "markdown",
   "metadata": {},
   "source": [
    "### RQ1 - How many Participants are using ChatGPT?"
   ]
  },
  {
   "cell_type": "code",
   "execution_count": 23,
   "metadata": {},
   "outputs": [
    {
     "name": "stdout",
     "output_type": "stream",
     "text": [
      "rq1_question\n",
      "1    15\n",
      "0     2\n",
      "Name: count, dtype: int64 rq1_question\n",
      "1    88.235294\n",
      "0    11.764706\n",
      "Name: count, dtype: float64\n"
     ]
    },
    {
     "data": {
      "image/png": "[encoded data removed]",
      "text/plain": [
       "<IPython.core.display.Image object>"
      ]
     },
     "execution_count": 23,
     "metadata": {},
     "output_type": "execute_result"
    }
   ],
   "source": [
    "#=====================================\n",
    "# RQ1 - How many participants used ChatGPT?\n",
    "#-------------------------------------\n",
    "\n",
    "# Group counts based on either Yes(1) or No(0).\n",
    "#-------------------------------------\n",
    "rq1_counts = data['rq1_question'].value_counts()    \n",
    "\n",
    "# Show percentage proportion of the population each group holds.\n",
    "#-------------------------------------\n",
    "rq1_pcts = (rq1_counts / rq1_counts.sum())          \n",
    "\n",
    "# View proportion of results.\n",
    "#-------------------------------------\n",
    "print(rq1_counts,rq1_pcts * 100)                    \n",
    "\n",
    "# Create pie chart to visualise results.\n",
    "#-------------------------------------\n",
    "fig = px.pie\\\n",
    "    (                                       \n",
    "        values = rq1_counts\n",
    "        #,names = rq1_counts.index\n",
    "        ,names = ['Yes','No']\n",
    "        ,labels = rq1_pcts\n",
    "        ,hole = .5\n",
    "        ,color_discrete_sequence = px.colors.carto.Prism\n",
    "        ,width = 600\n",
    "    )\n",
    "\n",
    "# Update pie chart layout.\n",
    "#-------------------------------------\n",
    "fig.update_layout\\\n",
    "    (\n",
    "        margin=dict(l=20,r=20,t=20,b=20)\n",
    "        ,font=dict(family = \"times New Roman\",size = 18,color = '#000000')\n",
    "    )\n",
    "\n",
    "# Used to preview chart and save as image.\n",
    "#-------------------------------------\n",
    "#fig.show()\n",
    "\n",
    "# Import previously saved chart image to render into pdf format.\n",
    "#-------------------------------------\n",
    "Image('Figure 1 - RQ1 - Dissertation - LouisOthen.png')"
   ]
  },
  {
   "cell_type": "markdown",
   "metadata": {},
   "source": [
    "\\pagebreak"
   ]
  },
  {
   "cell_type": "markdown",
   "metadata": {},
   "source": [
    "### RQ2 - If ChatGPT is being used by the participant, did the use of it enhance a user’s knowledge?"
   ]
  },
  {
   "cell_type": "code",
   "execution_count": 24,
   "metadata": {},
   "outputs": [
    {
     "name": "stdout",
     "output_type": "stream",
     "text": [
      "rq2_question\n",
      "1    15\n",
      "Name: count, dtype: int64 rq2_question\n",
      "1    100.0\n",
      "Name: count, dtype: float64\n"
     ]
    },
    {
     "data": {
      "image/png": "[encoded data removed]",
      "text/plain": [
       "<IPython.core.display.Image object>"
      ]
     },
     "execution_count": 24,
     "metadata": {},
     "output_type": "execute_result"
    }
   ],
   "source": [
    "#=====================================\n",
    "# RQ2 - If ChatGPT is being used by the participant, did the use of it enhance a user’s knowledge?\n",
    "#-------------------------------------\n",
    "\n",
    "# Subset data where ChatGPT was used.\n",
    "#-------------------------------------\n",
    "data_used_chatgpt = data.query(\"rq1_question == 1\")  \n",
    "\n",
    "# Group counts based on either Yes(1) or No(0).\n",
    "#-------------------------------------\n",
    "rq2_counts = data_used_chatgpt['rq2_question'].value_counts()   \n",
    "\n",
    "# Show percentage proportion of the population each group holds.\n",
    "#-------------------------------------\n",
    "rq2_pcts = (rq2_counts / rq2_counts.sum())                      \n",
    "\n",
    "# View proportion of results.\n",
    "#-------------------------------------\n",
    "print(rq2_counts,rq2_pcts * 100)\n",
    "\n",
    "# Create pie chart to visualise results.\n",
    "#-------------------------------------\n",
    "fig = px.pie\\\n",
    "    (                                                \n",
    "        values = rq2_counts\n",
    "        ,names = rq2_counts.index\n",
    "        ,labels = rq2_pcts\n",
    "        ,hole = 0\n",
    "        ,color_discrete_sequence = px.colors.carto.Darkmint_r\n",
    "    )\n",
    "\n",
    "# Update pie chart layout.\n",
    "#-------------------------------------\n",
    "fig.update_layout\\\n",
    "    (\n",
    "        margin=dict(l = 20,r = 20,t = 20,b = 20)\n",
    "        ,font=dict(family = \"times New Roman\",size = 18,color = '#000000')\n",
    "    )\n",
    "\n",
    "# Used to preview chart and save as image.\n",
    "#-------------------------------------\n",
    "#fig.show()\n",
    "\n",
    "# Import previously saved chart image to render into pdf format.\n",
    "#-------------------------------------\n",
    "Image('RQ2 - Dissertation - LouisOthen.png')"
   ]
  },
  {
   "cell_type": "markdown",
   "metadata": {},
   "source": [
    "\\pagebreak"
   ]
  },
  {
   "cell_type": "markdown",
   "metadata": {},
   "source": [
    "### RQ3 - If ChatGPT did enhance a user's knowledge, has ChatGPT been adopted by the user for routine knowledge acquisition?"
   ]
  },
  {
   "cell_type": "code",
   "execution_count": 25,
   "metadata": {},
   "outputs": [
    {
     "name": "stdout",
     "output_type": "stream",
     "text": [
      "rq3_question\n",
      "1    10\n",
      "0     5\n",
      "Name: count, dtype: int64 rq3_question\n",
      "1    66.666667\n",
      "0    33.333333\n",
      "Name: count, dtype: float64\n"
     ]
    },
    {
     "data": {
      "image/png": "[encoded data removed]",
      "text/plain": [
       "<IPython.core.display.Image object>"
      ]
     },
     "execution_count": 25,
     "metadata": {},
     "output_type": "execute_result"
    }
   ],
   "source": [
    "#=====================================\n",
    "# RQ3 - If ChatGPT did enhance a user's knowledge, has ChatGPT been adopted by the user for routine knowledge acquisition?\n",
    "#-------------------------------------\n",
    "\n",
    "# Subset data where knowledge enhancement was reported.\n",
    "#-------------------------------------\n",
    "data_enhanced_knowledge = data.query(\"rq2_question == 1\")    \n",
    "\n",
    "# Group counts based on either Yes(1) or No(0).\n",
    "\n",
    "rq3_counts = data_enhanced_knowledge['rq3_question'].value_counts()  \n",
    "\n",
    "# View percentage proportion of the population each group holds.\n",
    "#-------------------------------------\n",
    "rq3_pcts = (rq3_counts / rq3_counts.sum())                              \n",
    "print(rq3_counts,rq3_pcts * 100)\n",
    "\n",
    "# Create pie chart to visualise results.\n",
    "#-------------------------------------\n",
    "fig = px.pie\\\n",
    "    (                                                       \n",
    "        values = rq3_counts\n",
    "        ,names = ['Yes','No']\n",
    "        ,labels = rq3_pcts\n",
    "        ,hole = 0.5\n",
    "        ,color_discrete_sequence = px.colors.cmocean.delta\n",
    "        ,width = 600\n",
    "    )\n",
    "\n",
    "# Update pie chart layout.\n",
    "#-------------------------------------\n",
    "fig.update_layout\\\n",
    "    (\n",
    "        margin=dict(l = 20,r = 20,t = 20,b = 20)\n",
    "        ,font=dict(family = \"times New Roman\",size = 18,color = '#000000')\n",
    "    )\n",
    "\n",
    "# Used to preview chart and save as image.\n",
    "#-------------------------------------\n",
    "#fig.show()\n",
    "\n",
    "# Import previously saved chart image to render into pdf format.\n",
    "#-------------------------------------\n",
    "Image('Figure 2 - RQ3 - Dissertation - LouisOthen.png')"
   ]
  },
  {
   "cell_type": "markdown",
   "metadata": {},
   "source": [
    "Now the descriptive analysis is applied against the research questions, the next section looks to answer the research hypotheses proposed."
   ]
  },
  {
   "cell_type": "markdown",
   "metadata": {},
   "source": [
    "\\pagebreak"
   ]
  },
  {
   "cell_type": "markdown",
   "metadata": {},
   "source": [
    "# Hypothesis Testing and Pearson's Correlation Coefficient"
   ]
  },
  {
   "cell_type": "markdown",
   "metadata": {},
   "source": [
    "## Binomial Test - RH1 - The utilisation of ChatGPT increases the likelihood of enhancing a user's knowledge on a specific topic."
   ]
  },
  {
   "cell_type": "code",
   "execution_count": 26,
   "metadata": {},
   "outputs": [
    {
     "name": "stdout",
     "output_type": "stream",
     "text": [
      "Number of successes:  15\n",
      "Number of trials:  15 \n",
      "\n",
      "p-value from binomial hypothesis test: 0.000030517578125\n",
      "Therefore, hypothesis RH1 is accepted and the null hypothesis is rejected.\n"
     ]
    }
   ],
   "source": [
    "# Bring in responses where they have used ChatGPT before.\n",
    "#-------------------------------------\n",
    "rh1_data = data.query(\"rq1_question == 1\")  \n",
    "\n",
    "# Use series of responses on knowledge enhancement for a user.\n",
    "#-------------------------------------\n",
    "rh1_data = rh1_data['rq2_question']         \n",
    "\n",
    "# Show output from rh1 series.\n",
    "#-------------------------------------\n",
    "#print(rh1_data, '\\n')             \n",
    "         \n",
    "# Store number of successes from rh1_data.\n",
    "#-------------------------------------\n",
    "rh1_successes   = sum(rh1_data)           \n",
    "\n",
    "# Store total number of trials from rh1_data.\n",
    "#-------------------------------------\n",
    "rh1_trials      = len(rh1_data)             \n",
    "\n",
    "# Assumption of null hypothesis, only 50% or less of participants reported knowledge enhancement from ChatGPT.\n",
    "#-------------------------------------\n",
    "rh1_probability = 0.5                       \n",
    "\n",
    "# Perform Binomial Test and record p-value.\n",
    "#-------------------------------------\n",
    "rh1_p_value = binom_test(\n",
    "                            x = rh1_successes\n",
    "                            ,n = rh1_trials\n",
    "                            ,p = rh1_probability\n",
    "                            ,alternative='greater'\n",
    "                        )\n",
    "\n",
    "print('Number of successes: ', rh1_successes)\n",
    "\n",
    "print('Number of trials: ',rh1_trials,'\\n')\n",
    "\n",
    "print(\n",
    "        'p-value from binomial hypothesis test:'\n",
    "        ,np.format_float_positional(rh1_p_value,trim = '-')\n",
    "     )\n",
    "\n",
    "# Confirm if Null hypothesis rejected.\n",
    "#-------------------------------------\n",
    "if rh1_p_value < 0.05:\n",
    "    print('Therefore, hypothesis RH1 is accepted and the null hypothesis is rejected.')\n",
    "elif rh1_p_value >= 0.05:\n",
    "    print('Therefore, hypothesis RH1 is rejected and failed to reject the null hypothesis.')\n",
    "    "
   ]
  },
  {
   "cell_type": "markdown",
   "metadata": {},
   "source": [
    "\\pagebreak"
   ]
  },
  {
   "cell_type": "markdown",
   "metadata": {},
   "source": [
    "## Binomial Test - RH2 - Users who perceive ChatGPT as enhancing their knowledge are more likely to incorporate ChatGPT into their routine for knowledge acquisition compared to those who do not perceive ChatGPT as enhancing their knowledge."
   ]
  },
  {
   "cell_type": "code",
   "execution_count": 27,
   "metadata": {},
   "outputs": [
    {
     "name": "stdout",
     "output_type": "stream",
     "text": [
      "Number of successes:  10\n",
      "Number of trials:  15\n",
      "p-value from binomial hypothesis test: 0.15087890624999997\n",
      "Therefore, hypothesis RH2 is rejected and failed to reject the null hypothesis.\n"
     ]
    }
   ],
   "source": [
    "# Bring in responses where knowledge enhancement was found.\n",
    "#-------------------------------------\n",
    "rh2_data = data.query(\"rq2_question == 1\")  \n",
    "\n",
    "# Use series of responses on knowledge enhancement for a user.\n",
    "#-------------------------------------\n",
    "rh2_data = rh2_data['rq3_question']         \n",
    "\n",
    "# Show output from rh1 series.\n",
    "#-------------------------------------\n",
    "#print(rh2_data)                            \n",
    "\n",
    "# Store number of successes from rh1_data.\n",
    "#-------------------------------------\n",
    "rh2_successes   = sum(rh2_data)             \n",
    "\n",
    "# Store total number of trials from rh1_data.\n",
    "#-------------------------------------\n",
    "rh2_trials      = len(rh2_data)             \n",
    "\n",
    "# Assumption of null hypothesis, only 50% or less of participants reported incorporation of ChatGPT.\n",
    "#-------------------------------------\n",
    "rh2_probability = 0.5                      \n",
    "\n",
    "# Perform Binomial Test and record p-value.\n",
    "#-------------------------------------\n",
    "rh2_p_value = binom_test(\n",
    "                            x = rh2_successes\n",
    "                            ,n = rh2_trials\n",
    "                            ,p = rh2_probability\n",
    "                            ,alternative= 'greater'\n",
    "                        )\n",
    "\n",
    "print('Number of successes: ',rh2_successes)\n",
    "\n",
    "print('Number of trials: ',rh2_trials)\n",
    "\n",
    "print(\n",
    "        'p-value from binomial hypothesis test:'\n",
    "        ,np.format_float_positional(rh2_p_value,trim = '-')\n",
    "     )\n",
    "\n",
    "# Confirm if Null hypothesis rejected.\n",
    "#-------------------------------------\n",
    "if rh2_p_value < 0.05:\n",
    "    print('Therefore, hypothesis RH2 is accepted and the null hypothesis is rejected.')\n",
    "elif rh2_p_value >= 0.05:\n",
    "    print('Therefore, hypothesis RH2 is rejected and failed to reject the null hypothesis.')\n",
    "    "
   ]
  },
  {
   "cell_type": "markdown",
   "metadata": {},
   "source": [
    "\\pagebreak"
   ]
  },
  {
   "cell_type": "markdown",
   "metadata": {},
   "source": [
    "## RH2 - Pearsons Correlation Coefficient"
   ]
  },
  {
   "cell_type": "code",
   "execution_count": 28,
   "metadata": {},
   "outputs": [
    {
     "name": "stdout",
     "output_type": "stream",
     "text": [
      "              rq2_question  rq3_question\n",
      "rq2_question      1.000000      0.620661\n",
      "rq3_question      0.620661      1.000000\n"
     ]
    },
    {
     "data": {
      "image/png": "[encoded data removed]",
      "text/plain": [
       "<IPython.core.display.Image object>"
      ]
     },
     "execution_count": 28,
     "metadata": {},
     "output_type": "execute_result"
    }
   ],
   "source": [
    "# Bring results of RQ2 and RQ3 questions in data.\n",
    "#-------------------------------------\n",
    "data_for_corr = data[['rq2_question','rq3_question']]\n",
    "\n",
    "# Show results of pandas.DataFrame.corr.\n",
    "#-------------------------------------\n",
    "print(data_for_corr.corr(method = 'pearson'))\n",
    "\n",
    "# Compute pearsonr function from the scipy.stats package.\n",
    "#-------------------------------------\n",
    "pearson_results = pearsonr(data['rq2_question'],data['rq3_question'])\n",
    "\n",
    "# Create correlation matrix to visualise results.\n",
    "#-------------------------------------\n",
    "fig = px.imshow(\n",
    "                data_for_corr.corr(method='pearson')\n",
    "                ,text_auto = True\n",
    "                ,title = f\"p-value: {pearson_results.pvalue}\"\n",
    "                ,width = 600\n",
    "                )\n",
    "\n",
    "# Update chart layout.\n",
    "#-------------------------------------\n",
    "fig.update_layout(\n",
    "                    margin=dict(l=25, r=25, t=25, b=25)\n",
    "                    ,title=dict(\n",
    "                                font=dict(\n",
    "                                            family = \"Times New Roman\",\n",
    "                                            size = 18,\n",
    "                                            color = '#000000'\n",
    "                                        )\n",
    "                                )\n",
    "                    ,font=dict(\n",
    "                                family = \"times New Roman\"\n",
    "                                ,size  = 18\n",
    "                                ,color ='#000000'\n",
    "                              )\n",
    "                    )\n",
    "\n",
    "# Used to preview chart and save as image.\n",
    "#-------------------------------------\n",
    "#fig.show()\n",
    "\n",
    "# Import previously saved chart image to render into pdf format.\n",
    "#-------------------------------------\n",
    "Image('Figure 3 - RH2 - Dissertation - LouisOthen.png')"
   ]
  },
  {
   "cell_type": "markdown",
   "metadata": {},
   "source": [
    "\\pagebreak"
   ]
  },
  {
   "cell_type": "markdown",
   "metadata": {},
   "source": [
    "# Output Processed Dataset"
   ]
  },
  {
   "cell_type": "code",
   "execution_count": 29,
   "metadata": {},
   "outputs": [],
   "source": [
    "data.to_csv(folderPath + 'DissertationOutput.csv')"
   ]
  },
  {
   "cell_type": "markdown",
   "metadata": {},
   "source": [
    "# Additional Insights"
   ]
  },
  {
   "cell_type": "markdown",
   "metadata": {},
   "source": [
    "## Rating ChatGPT Response"
   ]
  },
  {
   "cell_type": "code",
   "execution_count": 30,
   "metadata": {},
   "outputs": [
    {
     "data": {
      "image/png": "[encoded data removed]",
      "text/plain": [
       "<IPython.core.display.Image object>"
      ]
     },
     "execution_count": 30,
     "metadata": {},
     "output_type": "execute_result"
    }
   ],
   "source": [
    "# Create histogram, showing how ChatGPT responses were rated.\n",
    "#-------------------------------------\n",
    "fig = px.histogram(\n",
    "                    data_frame = data['rating_response']\n",
    "                    , text_auto = True\n",
    "                    ,nbins = 6\n",
    "                    ,width = 600\n",
    "                    ,color_discrete_sequence = ['purple']\n",
    "                  )\n",
    "\n",
    "# Update chart layout.\n",
    "#-------------------------------------\n",
    "fig.update_xaxes(title_text = 'Rating')\n",
    "fig.update_yaxes(title_text = 'Frequency')\n",
    "fig.update_traces(showlegend = False)\n",
    "fig.update_layout(\n",
    "                    margin = dict(l = 25,r = 25,t = 25,b = 25)\n",
    "                    ,font = dict(family = \"times New Roman\",size = 18,color ='#000000')\n",
    "                 )\n",
    "\n",
    "# Used to preview chart and save as image.\n",
    "#-------------------------------------\n",
    "#fig.show()\n",
    "\n",
    "# Import previously saved chart image to render into pdf format.\n",
    "#-------------------------------------\n",
    "Image('Figure 4  - Rating ChatGPT Response - LouisOthen.png')\n"
   ]
  },
  {
   "cell_type": "markdown",
   "metadata": {},
   "source": [
    "\\pagebreak"
   ]
  },
  {
   "cell_type": "markdown",
   "metadata": {},
   "source": [
    "## Comparing ChatGPT to other tools"
   ]
  },
  {
   "cell_type": "code",
   "execution_count": 31,
   "metadata": {},
   "outputs": [
    {
     "data": {
      "image/png": "[encoded data removed]",
      "text/plain": [
       "<IPython.core.display.Image object>"
      ]
     },
     "execution_count": 31,
     "metadata": {},
     "output_type": "execute_result"
    }
   ],
   "source": [
    "# Create histogram, showing rating of comparison of ChatGPT to other tools.\n",
    "#-------------------------------------\n",
    "fig = px.histogram(\n",
    "                    data_frame = data['rating_comparison_other']\n",
    "                    ,text_auto = True\n",
    "                    ,nbins = 6\n",
    "                    ,width = 600\n",
    "                    ,color_discrete_sequence = ['blue']\n",
    "                  )\n",
    "\n",
    "# Update chart layout.\n",
    "#-------------------------------------\n",
    "fig.update_xaxes(title_text = 'Rating')\n",
    "fig.update_yaxes(title_text = 'Frequency')\n",
    "fig.update_traces(showlegend = False)\n",
    "fig.update_layout(\n",
    "                    margin=dict(l=25, r=25, t=25, b=25)\n",
    "                    ,font=dict(family = \"times New Roman\",size = 18,color ='#000000')\n",
    "                 )\n",
    "\n",
    "# Used to preview chart and save as image.\n",
    "#-------------------------------------\n",
    "#fig.show()\n",
    "\n",
    "# Import previously saved chart image to render into pdf format.\n",
    "#-------------------------------------\n",
    "Image('Figure 5  - Comparing ChatGPT to other tools - LouisOthen.png')\n"
   ]
  }
 ],
 "metadata": {
  "kernelspec": {
   "display_name": "Python 3 (ipykernel)",
   "language": "python",
   "name": "python3"
  },
  "language_info": {
   "codemirror_mode": {
    "name": "ipython",
    "version": 3
   },
   "file_extension": ".py",
   "mimetype": "text/x-python",
   "name": "python",
   "nbconvert_exporter": "python",
   "pygments_lexer": "ipython3",
   "version": "3.11.3"
  }
 },
 "nbformat": 4,
 "nbformat_minor": 2
}
